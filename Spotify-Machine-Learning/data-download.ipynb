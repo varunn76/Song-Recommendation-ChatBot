{
 "cells": [
  {
   "cell_type": "code",
   "execution_count": 1,
   "metadata": {},
   "outputs": [
    {
     "name": "stderr",
     "output_type": "stream",
     "text": [
      "/tmp/ipykernel_56436/2698737944.py:4: DeprecationWarning: Importing clear_output from IPython.core.display is deprecated since IPython 7.14, please import from IPython display\n",
      "  from IPython.core.display import clear_output\n"
     ]
    }
   ],
   "source": [
    "from helpers import *\n",
    "import spotipy\n",
    "from spotipy import SpotifyClientCredentials, util\n",
    "from IPython.core.display import clear_output\n",
    "\n",
    "import pandas as pd \n",
    "# import pandasql as ps \n",
    "# import time\n",
    "# import sqlite3\n"
   ]
  },
  {
   "cell_type": "code",
   "execution_count": 2,
   "metadata": {
    "tags": []
   },
   "outputs": [
    {
     "ename": "TypeError",
     "evalue": "'str' object cannot be interpreted as an integer",
     "output_type": "error",
     "traceback": [
      "\u001b[0;31m---------------------------------------------------------------------------\u001b[0m",
      "\u001b[0;31mTypeError\u001b[0m                                 Traceback (most recent call last)",
      "Cell \u001b[0;32mIn[2], line 1\u001b[0m\n\u001b[0;32m----> 1\u001b[0m tracks,columns \u001b[39m=\u001b[39m download_playlist(\u001b[39m'\u001b[39;49m\u001b[39mid_of_the_playlist\u001b[39;49m\u001b[39m'\u001b[39;49m,\u001b[39m'\u001b[39;49m\u001b[39mnumber_of_the_playlist_songs\u001b[39;49m\u001b[39m'\u001b[39;49m)\n\u001b[1;32m      2\u001b[0m \u001b[39m#If the id if for artist, you must to put specify True to the artist parameter\u001b[39;00m\n\u001b[1;32m      3\u001b[0m tracks,columns \u001b[39m=\u001b[39m download_albums(\u001b[39m'\u001b[39m\u001b[39mid_of_the_artist_or_the_album\u001b[39m\u001b[39m'\u001b[39m,artist\u001b[39m=\u001b[39m\u001b[39mFalse\u001b[39;00m)\n",
      "File \u001b[0;32m~/Desktop/song-emotion/Spotify-Machine-Learning/helpers.py:120\u001b[0m, in \u001b[0;36mdownload_playlist\u001b[0;34m(id_playlist, n_songs)\u001b[0m\n\u001b[1;32m    117\u001b[0m songs_id \u001b[39m=\u001b[39m []\n\u001b[1;32m    118\u001b[0m tracks \u001b[39m=\u001b[39m []\n\u001b[0;32m--> 120\u001b[0m \u001b[39mfor\u001b[39;00m i \u001b[39min\u001b[39;00m \u001b[39mrange\u001b[39;49m(\u001b[39m0\u001b[39;49m, n_songs, \u001b[39m100\u001b[39;49m):\n\u001b[1;32m    121\u001b[0m     playlist \u001b[39m=\u001b[39m spt\u001b[39m.\u001b[39mplaylist_tracks(id_playlist, limit\u001b[39m=\u001b[39m\u001b[39m100\u001b[39m, offset\u001b[39m=\u001b[39mi)\n\u001b[1;32m    123\u001b[0m     \u001b[39mfor\u001b[39;00m songs \u001b[39min\u001b[39;00m playlist[\u001b[39m'\u001b[39m\u001b[39mitems\u001b[39m\u001b[39m'\u001b[39m]:\n",
      "\u001b[0;31mTypeError\u001b[0m: 'str' object cannot be interpreted as an integer"
     ]
    }
   ],
   "source": [
    "tracks,columns = download_playlist('id_of_the_playlist','number_of_the_playlist_songs')\n",
    "#If the id if for artist, you must to put specify True to the artist parameter\n",
    "tracks,columns = download_albums('id_of_the_artist_or_the_album',artist=False)\n",
    "df1 = pd.DataFrame(tracks,columns=columns)\n",
    "df1.head()"
   ]
  },
  {
   "cell_type": "code",
   "execution_count": 28,
   "metadata": {
    "tags": []
   },
   "outputs": [],
   "source": [
    "df1.to_csv('df2.csv',index=False)"
   ]
  }
 ],
 "metadata": {
  "kernelspec": {
   "display_name": "Python 3",
   "language": "python",
   "name": "python3"
  },
  "language_info": {
   "codemirror_mode": {
    "name": "ipython",
    "version": 3
   },
   "file_extension": ".py",
   "mimetype": "text/x-python",
   "name": "python",
   "nbconvert_exporter": "python",
   "pygments_lexer": "ipython3",
   "version": "3.10.6"
  },
  "orig_nbformat": 2
 },
 "nbformat": 4,
 "nbformat_minor": 2
}
