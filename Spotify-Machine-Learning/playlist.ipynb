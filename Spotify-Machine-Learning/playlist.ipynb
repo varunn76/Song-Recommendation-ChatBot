{
 "cells": [
  {
   "cell_type": "code",
   "execution_count": 1,
   "metadata": {},
   "outputs": [
    {
     "name": "stderr",
     "output_type": "stream",
     "text": [
      "/snap/core20/current/lib/x86_64-linux-gnu/libstdc++.so.6: version `GLIBCXX_3.4.29' not found (required by /lib/x86_64-linux-gnu/libproxy.so.1)\n",
      "Failed to load module: /home/nikhil/snap/code/common/.cache/gio-modules/libgiolibproxy.so\n",
      "Gtk-Message: 18:40:46.475: Failed to load module \"canberra-gtk-module\"\n",
      "Gtk-Message: 18:40:46.476: Failed to load module \"canberra-gtk-module\"\n",
      "/usr/share/libdrm/amdgpu.ids: No such file or directory\n"
     ]
    },
    {
     "name": "stdout",
     "output_type": "stream",
     "text": [
      "Opening in existing browser session.\n"
     ]
    },
    {
     "name": "stderr",
     "output_type": "stream",
     "text": [
      "/snap/core20/current/lib/x86_64-linux-gnu/libstdc++.so.6: version `GLIBCXX_3.4.29' not found (required by /lib/x86_64-linux-gnu/libproxy.so.1)\n",
      "Failed to load module: /home/nikhil/snap/code/common/.cache/gio-modules/libgiolibproxy.so\n",
      "Gtk-Message: 18:40:57.505: Failed to load module \"canberra-gtk-module\"\n",
      "Gtk-Message: 18:40:57.506: Failed to load module \"canberra-gtk-module\"\n",
      "/usr/share/libdrm/amdgpu.ids: No such file or directory\n"
     ]
    },
    {
     "name": "stdout",
     "output_type": "stream",
     "text": [
      "Opening in existing browser session.\n"
     ]
    },
    {
     "ename": "SpotifyOauthError",
     "evalue": "error: invalid_request, error_description: code must be supplied",
     "output_type": "error",
     "traceback": [
      "\u001b[0;31m---------------------------------------------------------------------------\u001b[0m",
      "\u001b[0;31mHTTPError\u001b[0m                                 Traceback (most recent call last)",
      "File \u001b[0;32m~/.local/lib/python3.10/site-packages/spotipy/oauth2.py:559\u001b[0m, in \u001b[0;36mSpotifyOAuth.get_access_token\u001b[0;34m(self, code, as_dict, check_cache)\u001b[0m\n\u001b[1;32m    551\u001b[0m response \u001b[39m=\u001b[39m \u001b[39mself\u001b[39m\u001b[39m.\u001b[39m_session\u001b[39m.\u001b[39mpost(\n\u001b[1;32m    552\u001b[0m     \u001b[39mself\u001b[39m\u001b[39m.\u001b[39mOAUTH_TOKEN_URL,\n\u001b[1;32m    553\u001b[0m     data\u001b[39m=\u001b[39mpayload,\n\u001b[0;32m   (...)\u001b[0m\n\u001b[1;32m    557\u001b[0m     timeout\u001b[39m=\u001b[39m\u001b[39mself\u001b[39m\u001b[39m.\u001b[39mrequests_timeout,\n\u001b[1;32m    558\u001b[0m )\n\u001b[0;32m--> 559\u001b[0m response\u001b[39m.\u001b[39;49mraise_for_status()\n\u001b[1;32m    560\u001b[0m token_info \u001b[39m=\u001b[39m response\u001b[39m.\u001b[39mjson()\n",
      "File \u001b[0;32m~/.local/lib/python3.10/site-packages/requests/models.py:1021\u001b[0m, in \u001b[0;36mResponse.raise_for_status\u001b[0;34m(self)\u001b[0m\n\u001b[1;32m   1020\u001b[0m \u001b[39mif\u001b[39;00m http_error_msg:\n\u001b[0;32m-> 1021\u001b[0m     \u001b[39mraise\u001b[39;00m HTTPError(http_error_msg, response\u001b[39m=\u001b[39m\u001b[39mself\u001b[39m)\n",
      "\u001b[0;31mHTTPError\u001b[0m: 400 Client Error: Bad Request for url: https://accounts.spotify.com/api/token",
      "\nDuring handling of the above exception, another exception occurred:\n",
      "\u001b[0;31mSpotifyOauthError\u001b[0m                         Traceback (most recent call last)",
      "Cell \u001b[0;32mIn[1], line 1\u001b[0m\n\u001b[0;32m----> 1\u001b[0m \u001b[39mfrom\u001b[39;00m  \u001b[39mhelpers\u001b[39;00m \u001b[39mimport\u001b[39;00m \u001b[39m*\u001b[39m\n\u001b[1;32m      2\u001b[0m \u001b[39mimport\u001b[39;00m \u001b[39mspotipy\u001b[39;00m\n\u001b[1;32m      3\u001b[0m \u001b[39mfrom\u001b[39;00m \u001b[39mspotipy\u001b[39;00m \u001b[39mimport\u001b[39;00m SpotifyClientCredentials, util\n",
      "File \u001b[0;32m~/Desktop/song-emotion/Spotify-Machine-Learning/helpers.py:18\u001b[0m\n\u001b[1;32m     15\u001b[0m sp \u001b[39m=\u001b[39m spotipy\u001b[39m.\u001b[39mSpotify(client_credentials_manager\u001b[39m=\u001b[39mmanager)\n\u001b[1;32m     17\u001b[0m \u001b[39m#Credentials to access to  the Spotify User's Playlist, Favorite Songs, etc. \u001b[39;00m\n\u001b[0;32m---> 18\u001b[0m token \u001b[39m=\u001b[39m util\u001b[39m.\u001b[39;49mprompt_for_user_token(username,scope,client_id,client_secret,redirect_uri) \n\u001b[1;32m     19\u001b[0m spt \u001b[39m=\u001b[39m spotipy\u001b[39m.\u001b[39mSpotify(auth\u001b[39m=\u001b[39mtoken)\n\u001b[1;32m     22\u001b[0m \u001b[39mdef\u001b[39;00m \u001b[39mget_albums_id\u001b[39m(ids):\n",
      "File \u001b[0;32m~/.local/lib/python3.10/site-packages/spotipy/util.py:100\u001b[0m, in \u001b[0;36mprompt_for_user_token\u001b[0;34m(username, scope, client_id, client_secret, redirect_uri, cache_path, oauth_manager, show_dialog)\u001b[0m\n\u001b[1;32m     98\u001b[0m \u001b[39mif\u001b[39;00m \u001b[39mnot\u001b[39;00m token_info:\n\u001b[1;32m     99\u001b[0m     code \u001b[39m=\u001b[39m sp_oauth\u001b[39m.\u001b[39mget_auth_response()\n\u001b[0;32m--> 100\u001b[0m     token \u001b[39m=\u001b[39m sp_oauth\u001b[39m.\u001b[39;49mget_access_token(code, as_dict\u001b[39m=\u001b[39;49m\u001b[39mFalse\u001b[39;49;00m)\n\u001b[1;32m    101\u001b[0m \u001b[39melse\u001b[39;00m:\n\u001b[1;32m    102\u001b[0m     \u001b[39mreturn\u001b[39;00m token_info[\u001b[39m\"\u001b[39m\u001b[39maccess_token\u001b[39m\u001b[39m\"\u001b[39m]\n",
      "File \u001b[0;32m~/.local/lib/python3.10/site-packages/spotipy/oauth2.py:565\u001b[0m, in \u001b[0;36mSpotifyOAuth.get_access_token\u001b[0;34m(self, code, as_dict, check_cache)\u001b[0m\n\u001b[1;32m    563\u001b[0m     \u001b[39mreturn\u001b[39;00m token_info \u001b[39mif\u001b[39;00m as_dict \u001b[39melse\u001b[39;00m token_info[\u001b[39m\"\u001b[39m\u001b[39maccess_token\u001b[39m\u001b[39m\"\u001b[39m]\n\u001b[1;32m    564\u001b[0m \u001b[39mexcept\u001b[39;00m requests\u001b[39m.\u001b[39mexceptions\u001b[39m.\u001b[39mHTTPError \u001b[39mas\u001b[39;00m http_error:\n\u001b[0;32m--> 565\u001b[0m     \u001b[39mself\u001b[39;49m\u001b[39m.\u001b[39;49m_handle_oauth_error(http_error)\n",
      "File \u001b[0;32m~/.local/lib/python3.10/site-packages/spotipy/oauth2.py:146\u001b[0m, in \u001b[0;36mSpotifyAuthBase._handle_oauth_error\u001b[0;34m(self, http_error)\u001b[0m\n\u001b[1;32m    143\u001b[0m     error \u001b[39m=\u001b[39m response\u001b[39m.\u001b[39mtext \u001b[39mor\u001b[39;00m \u001b[39mNone\u001b[39;00m\n\u001b[1;32m    144\u001b[0m     error_description \u001b[39m=\u001b[39m \u001b[39mNone\u001b[39;00m\n\u001b[0;32m--> 146\u001b[0m \u001b[39mraise\u001b[39;00m SpotifyOauthError(\n\u001b[1;32m    147\u001b[0m     \u001b[39m'\u001b[39m\u001b[39merror: \u001b[39m\u001b[39m{0}\u001b[39;00m\u001b[39m, error_description: \u001b[39m\u001b[39m{1}\u001b[39;00m\u001b[39m'\u001b[39m\u001b[39m.\u001b[39mformat(\n\u001b[1;32m    148\u001b[0m         error, error_description\n\u001b[1;32m    149\u001b[0m     ),\n\u001b[1;32m    150\u001b[0m     error\u001b[39m=\u001b[39merror,\n\u001b[1;32m    151\u001b[0m     error_description\u001b[39m=\u001b[39merror_description\n\u001b[1;32m    152\u001b[0m )\n",
      "\u001b[0;31mSpotifyOauthError\u001b[0m: error: invalid_request, error_description: code must be supplied"
     ]
    }
   ],
   "source": [
    "from  helpers import *\n",
    "import spotipy\n",
    "from spotipy import SpotifyClientCredentials, util\n",
    "import pandas as pd"
   ]
  },
  {
   "cell_type": "code",
   "execution_count": 2,
   "metadata": {
    "tags": []
   },
   "outputs": [],
   "source": [
    "client_id='your_client_id'\n",
    "client_secret='yout_client_secret'\n",
    "redirect_uri='your_url_to_redirect'\n",
    "\n",
    "username = 'your_username_code'\n",
    "scope_playlist = 'playlist-modify-public'\n",
    "scope_user = 'user-library-modify'\n",
    "scope_playing = 'user-read-currently-playing'\n",
    "\n",
    "#Credentials to access the Spotify Music Data\n",
    "manager = SpotifyClientCredentials(client_id,client_secret)\n",
    "sp = spotipy.Spotify(client_credentials_manager=manager)\n",
    "\n",
    "#Credentials to access the actual song played\n",
    "token_actual = util.prompt_for_user_token(username,scope_playing,client_id,client_secret,redirect_uri) \n",
    "sp_actual = spotipy.Spotify(auth=token_actual)\n",
    "\n",
    "#Credentiasl to acces the library music \n",
    "token_user= util.prompt_for_user_token(username,scope_user,client_id,client_secret,redirect_uri) \n",
    "sp_user = spotipy.Spotify(auth=token_user)\n",
    "\n",
    "#Credentiasl to acces the Playlists Music\n",
    "token_playlist= util.prompt_for_user_token(username,scope_playlist,client_id,client_secret,redirect_uri) \n",
    "sp_playlist = spotipy.Spotify(auth=token_playlist)\n"
   ]
  },
  {
   "cell_type": "code",
   "execution_count": 3,
   "metadata": {},
   "outputs": [],
   "source": [
    "cluster_0 = pd.read_csv(\"data/cluster0.csv\")\n",
    "cluster_1 = pd.read_csv(\"data/cluster1.csv\")\n",
    "ids_0 = cluster_0['id'].tolist()\n",
    "ids_1 = cluster_1['id'].tolist()"
   ]
  },
  {
   "cell_type": "code",
   "execution_count": 13,
   "metadata": {
    "tags": []
   },
   "outputs": [
    {
     "data": {
      "text/plain": [
       "{'snapshot_id': 'NSwyZjllODNkNzJkOGEyZGU3ZjY2MzU5Y2JjYTBkYmQxOGQ2NDhlNGY0'}"
      ]
     },
     "execution_count": 13,
     "metadata": {},
     "output_type": "execute_result"
    }
   ],
   "source": [
    "radiohead_energy = sp_playlist.user_playlist_create(username,\"Radiohead :)\")\n",
    "radiohead_relaxed = sp_playlist.user_playlist_create(username,\"Radiohead :(\")\n"
   ]
  },
  {
   "cell_type": "code",
   "execution_count": 9,
   "metadata": {},
   "outputs": [
    {
     "data": {
      "text/plain": [
       "209"
      ]
     },
     "execution_count": 9,
     "metadata": {},
     "output_type": "execute_result"
    }
   ],
   "source": [
    "sp_playlist.user_playlist_add_tracks(username,'the_playlist_id',ids_1)"
   ]
  }
 ],
 "metadata": {
  "kernelspec": {
   "display_name": "Python 3",
   "language": "python",
   "name": "python3"
  },
  "language_info": {
   "codemirror_mode": {
    "name": "ipython",
    "version": 3
   },
   "file_extension": ".py",
   "mimetype": "text/x-python",
   "name": "python",
   "nbconvert_exporter": "python",
   "pygments_lexer": "ipython3",
   "version": "3.10.6"
  },
  "orig_nbformat": 2
 },
 "nbformat": 4,
 "nbformat_minor": 2
}
